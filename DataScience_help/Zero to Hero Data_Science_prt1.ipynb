{
 "cells": [
  {
   "cell_type": "markdown",
   "id": "af4b11f1",
   "metadata": {},
   "source": [
    "# Intro to python"
   ]
  },
  {
   "cell_type": "code",
   "execution_count": 3,
   "id": "fbf6e1e7",
   "metadata": {},
   "outputs": [
    {
     "name": "stdout",
     "output_type": "stream",
     "text": [
      "Hello World\n"
     ]
    }
   ],
   "source": [
    "print(\"Hello World\")"
   ]
  },
  {
   "cell_type": "markdown",
   "id": "0cc6c710",
   "metadata": {},
   "source": [
    "# Variables"
   ]
  },
  {
   "cell_type": "code",
   "execution_count": 1,
   "id": "913d2a68",
   "metadata": {},
   "outputs": [],
   "source": [
    "x = 3"
   ]
  },
  {
   "cell_type": "code",
   "execution_count": 5,
   "id": "e3d5d35a",
   "metadata": {},
   "outputs": [
    {
     "name": "stdout",
     "output_type": "stream",
     "text": [
      "No variables match your requested type.\n"
     ]
    }
   ],
   "source": [
    "%whos  # tells you all variables in memory so far"
   ]
  },
  {
   "cell_type": "code",
   "execution_count": 3,
   "id": "5d99dcb6",
   "metadata": {},
   "outputs": [
    {
     "name": "stdout",
     "output_type": "stream",
     "text": [
      "<class 'int'>\n"
     ]
    }
   ],
   "source": [
    "print(type(x))"
   ]
  },
  {
   "cell_type": "code",
   "execution_count": 4,
   "id": "d47a2b4f",
   "metadata": {},
   "outputs": [],
   "source": [
    "x = 5.7"
   ]
  },
  {
   "cell_type": "code",
   "execution_count": 6,
   "id": "d71f5597",
   "metadata": {},
   "outputs": [
    {
     "name": "stdout",
     "output_type": "stream",
     "text": [
      "Variable   Type     Data/Info\n",
      "-----------------------------\n",
      "x          float    5.7\n"
     ]
    }
   ],
   "source": [
    "%whos"
   ]
  },
  {
   "cell_type": "code",
   "execution_count": 8,
   "id": "c2c80a72",
   "metadata": {},
   "outputs": [],
   "source": [
    "abcd = 556.32"
   ]
  },
  {
   "cell_type": "code",
   "execution_count": 9,
   "id": "2a37c6b8",
   "metadata": {},
   "outputs": [
    {
     "name": "stdout",
     "output_type": "stream",
     "text": [
      "Variable   Type     Data/Info\n",
      "-----------------------------\n",
      "abcd       float    556.32\n",
      "x          float    5.7\n"
     ]
    }
   ],
   "source": [
    "%whos"
   ]
  },
  {
   "cell_type": "code",
   "execution_count": 10,
   "id": "f7174a4c",
   "metadata": {},
   "outputs": [],
   "source": [
    "a,b,c,d,f = 3,5,6.0,7.2,-3"
   ]
  },
  {
   "cell_type": "code",
   "execution_count": 11,
   "id": "987a838a",
   "metadata": {},
   "outputs": [
    {
     "name": "stdout",
     "output_type": "stream",
     "text": [
      "Variable   Type     Data/Info\n",
      "-----------------------------\n",
      "a          int      3\n",
      "abcd       float    556.32\n",
      "b          int      5\n",
      "c          float    6.0\n",
      "d          float    7.2\n",
      "f          int      -3\n",
      "x          float    5.7\n"
     ]
    }
   ],
   "source": [
    "%whos"
   ]
  },
  {
   "cell_type": "code",
   "execution_count": 12,
   "id": "2dd985cb",
   "metadata": {},
   "outputs": [],
   "source": [
    "del abcd"
   ]
  },
  {
   "cell_type": "code",
   "execution_count": 13,
   "id": "bcc41883",
   "metadata": {},
   "outputs": [
    {
     "name": "stdout",
     "output_type": "stream",
     "text": [
      "Variable   Type     Data/Info\n",
      "-----------------------------\n",
      "a          int      3\n",
      "b          int      5\n",
      "c          float    6.0\n",
      "d          float    7.2\n",
      "f          int      -3\n",
      "x          float    5.7\n"
     ]
    }
   ],
   "source": [
    "%whos"
   ]
  },
  {
   "cell_type": "code",
   "execution_count": 16,
   "id": "b23ed0a6",
   "metadata": {},
   "outputs": [
    {
     "ename": "NameError",
     "evalue": "name 'abcd' is not defined",
     "output_type": "error",
     "traceback": [
      "\u001b[1;31m---------------------------------------------------------------------------\u001b[0m",
      "\u001b[1;31mNameError\u001b[0m                                 Traceback (most recent call last)",
      "\u001b[1;32m~\\AppData\\Local\\Temp\\ipykernel_3416\\224357748.py\u001b[0m in \u001b[0;36m<module>\u001b[1;34m\u001b[0m\n\u001b[1;32m----> 1\u001b[1;33m \u001b[0mprint\u001b[0m\u001b[1;33m(\u001b[0m\u001b[0mabcd\u001b[0m\u001b[1;33m)\u001b[0m\u001b[1;33m\u001b[0m\u001b[1;33m\u001b[0m\u001b[0m\n\u001b[0m",
      "\u001b[1;31mNameError\u001b[0m: name 'abcd' is not defined"
     ]
    }
   ],
   "source": [
    "print(abcd)"
   ]
  },
  {
   "cell_type": "code",
   "execution_count": 17,
   "id": "e19deaf6",
   "metadata": {},
   "outputs": [],
   "source": [
    "c = 2+4j"
   ]
  },
  {
   "cell_type": "code",
   "execution_count": 18,
   "id": "a2035479",
   "metadata": {},
   "outputs": [
    {
     "name": "stdout",
     "output_type": "stream",
     "text": [
      "<class 'complex'>\n"
     ]
    }
   ],
   "source": [
    "print(type(c))"
   ]
  },
  {
   "cell_type": "code",
   "execution_count": 20,
   "id": "1825e1e7",
   "metadata": {},
   "outputs": [],
   "source": [
    "s = \"hello\""
   ]
  },
  {
   "cell_type": "code",
   "execution_count": 21,
   "id": "aad65252",
   "metadata": {},
   "outputs": [
    {
     "name": "stdout",
     "output_type": "stream",
     "text": [
      "<class 'str'>\n"
     ]
    }
   ],
   "source": [
    "print(type(s))"
   ]
  },
  {
   "cell_type": "markdown",
   "id": "263c74b6",
   "metadata": {},
   "source": [
    "# Operators"
   ]
  },
  {
   "cell_type": "code",
   "execution_count": 30,
   "id": "af640724",
   "metadata": {},
   "outputs": [
    {
     "name": "stdout",
     "output_type": "stream",
     "text": [
      "Variable   Type       Data/Info\n",
      "-------------------------------\n",
      "a          int        3\n",
      "b          int        5\n",
      "c          complex    (2+4j)\n",
      "d          float      7.2\n",
      "f          int        -3\n",
      "s          str        hello\n",
      "x          float      5.7\n"
     ]
    }
   ],
   "source": [
    "%whos"
   ]
  },
  {
   "cell_type": "code",
   "execution_count": 33,
   "id": "20e2c3a7",
   "metadata": {},
   "outputs": [],
   "source": [
    "sumOfaAndb = a + b"
   ]
  },
  {
   "cell_type": "code",
   "execution_count": 34,
   "id": "d10de110",
   "metadata": {},
   "outputs": [
    {
     "name": "stdout",
     "output_type": "stream",
     "text": [
      "8\n"
     ]
    }
   ],
   "source": [
    "print(sumOfaAndb)"
   ]
  },
  {
   "cell_type": "code",
   "execution_count": 35,
   "id": "eaf7a8a9",
   "metadata": {},
   "outputs": [
    {
     "data": {
      "text/plain": [
       "int"
      ]
     },
     "execution_count": 35,
     "metadata": {},
     "output_type": "execute_result"
    }
   ],
   "source": [
    "type(sumOfaAndb)"
   ]
  },
  {
   "cell_type": "code",
   "execution_count": 36,
   "id": "d8aad2fa",
   "metadata": {},
   "outputs": [
    {
     "data": {
      "text/plain": [
       "float"
      ]
     },
     "execution_count": 36,
     "metadata": {},
     "output_type": "execute_result"
    }
   ],
   "source": [
    "type(a + d)"
   ]
  },
  {
   "cell_type": "code",
   "execution_count": 37,
   "id": "542384e2",
   "metadata": {},
   "outputs": [],
   "source": [
    "s1 = \"hello\"\n",
    "s2 = \"world\"\n",
    "s3 = s1 + s2"
   ]
  },
  {
   "cell_type": "code",
   "execution_count": 38,
   "id": "0c08d22c",
   "metadata": {},
   "outputs": [
    {
     "name": "stdout",
     "output_type": "stream",
     "text": [
      "helloworld\n"
     ]
    }
   ],
   "source": [
    "print(s3)"
   ]
  },
  {
   "cell_type": "code",
   "execution_count": 39,
   "id": "4d61d960",
   "metadata": {},
   "outputs": [
    {
     "data": {
      "text/plain": [
       "3"
      ]
     },
     "execution_count": 39,
     "metadata": {},
     "output_type": "execute_result"
    }
   ],
   "source": [
    "10//3"
   ]
  },
  {
   "cell_type": "code",
   "execution_count": 40,
   "id": "8bf62888",
   "metadata": {},
   "outputs": [
    {
     "data": {
      "text/plain": [
       "3.3333333333333335"
      ]
     },
     "execution_count": 40,
     "metadata": {},
     "output_type": "execute_result"
    }
   ],
   "source": [
    "10/3"
   ]
  },
  {
   "cell_type": "code",
   "execution_count": 41,
   "id": "27e782ef",
   "metadata": {},
   "outputs": [
    {
     "data": {
      "text/plain": [
       "1000"
      ]
     },
     "execution_count": 41,
     "metadata": {},
     "output_type": "execute_result"
    }
   ],
   "source": [
    "10**3"
   ]
  },
  {
   "cell_type": "markdown",
   "id": "cef8c6de",
   "metadata": {},
   "source": [
    "# Booleans"
   ]
  },
  {
   "cell_type": "code",
   "execution_count": 47,
   "id": "c0173c5d",
   "metadata": {},
   "outputs": [],
   "source": [
    "a = True\n",
    "b = True\n",
    "c = False"
   ]
  },
  {
   "cell_type": "code",
   "execution_count": 48,
   "id": "de38b6bf",
   "metadata": {},
   "outputs": [
    {
     "name": "stdout",
     "output_type": "stream",
     "text": [
      "Variable     Type     Data/Info\n",
      "-------------------------------\n",
      "a            bool     True\n",
      "b            bool     True\n",
      "c            bool     False\n",
      "d            float    7.2\n",
      "f            int      -3\n",
      "s            str      hello\n",
      "s1           str      hello\n",
      "s2           str      world\n",
      "s3           str      helloworld\n",
      "sumOfaAndb   int      8\n",
      "x            float    5.7\n"
     ]
    }
   ],
   "source": [
    "%whos"
   ]
  },
  {
   "cell_type": "code",
   "execution_count": 49,
   "id": "581ae0f2",
   "metadata": {},
   "outputs": [
    {
     "name": "stdout",
     "output_type": "stream",
     "text": [
      "True\n",
      "False\n",
      "False\n"
     ]
    }
   ],
   "source": [
    "print(a and b)\n",
    "print(a and c)\n",
    "print(b and c)"
   ]
  },
  {
   "cell_type": "code",
   "execution_count": 50,
   "id": "fcff1a7a",
   "metadata": {},
   "outputs": [
    {
     "name": "stdout",
     "output_type": "stream",
     "text": [
      "True\n",
      "True\n",
      "True\n"
     ]
    }
   ],
   "source": [
    "print(a or b)\n",
    "print(a or c)\n",
    "print(b or c)"
   ]
  },
  {
   "cell_type": "code",
   "execution_count": 55,
   "id": "d0ed7737",
   "metadata": {},
   "outputs": [
    {
     "name": "stdout",
     "output_type": "stream",
     "text": [
      "False\n",
      "False\n",
      "True\n"
     ]
    }
   ],
   "source": [
    "print(not(a))\n",
    "print(not(b))\n",
    "print(not(c))"
   ]
  },
  {
   "cell_type": "markdown",
   "id": "f3efd464",
   "metadata": {},
   "source": [
    "# Comparisons"
   ]
  },
  {
   "cell_type": "code",
   "execution_count": 61,
   "id": "440b48ef",
   "metadata": {},
   "outputs": [
    {
     "name": "stdout",
     "output_type": "stream",
     "text": [
      "True\n",
      "True\n"
     ]
    }
   ],
   "source": [
    "print(2<3)\n",
    "print(2<=3)"
   ]
  },
  {
   "cell_type": "code",
   "execution_count": 62,
   "id": "5460f178",
   "metadata": {},
   "outputs": [
    {
     "name": "stdout",
     "output_type": "stream",
     "text": [
      "False\n",
      "False\n"
     ]
    }
   ],
   "source": [
    "print(2>3)\n",
    "print(2>=3)"
   ]
  },
  {
   "cell_type": "code",
   "execution_count": 58,
   "id": "f14c0abc",
   "metadata": {},
   "outputs": [
    {
     "name": "stdout",
     "output_type": "stream",
     "text": [
      "False\n"
     ]
    }
   ],
   "source": [
    "print(2==3)"
   ]
  },
  {
   "cell_type": "code",
   "execution_count": 59,
   "id": "3a9f1cf4",
   "metadata": {},
   "outputs": [
    {
     "name": "stdout",
     "output_type": "stream",
     "text": [
      "True\n"
     ]
    }
   ],
   "source": [
    "print(2!=3)"
   ]
  },
  {
   "cell_type": "markdown",
   "id": "99ddfd58",
   "metadata": {},
   "source": [
    "# Some useful functions"
   ]
  },
  {
   "cell_type": "code",
   "execution_count": 65,
   "id": "c661d97e",
   "metadata": {},
   "outputs": [
    {
     "name": "stdout",
     "output_type": "stream",
     "text": [
      "4.7\n"
     ]
    }
   ],
   "source": [
    "print(round(4.65784,1))"
   ]
  },
  {
   "cell_type": "code",
   "execution_count": 66,
   "id": "162ab4ee",
   "metadata": {},
   "outputs": [
    {
     "data": {
      "text/plain": [
       "(5, 2)"
      ]
     },
     "execution_count": 66,
     "metadata": {},
     "output_type": "execute_result"
    }
   ],
   "source": [
    "divmod(27,5)"
   ]
  },
  {
   "cell_type": "code",
   "execution_count": 71,
   "id": "8ef41e75",
   "metadata": {},
   "outputs": [
    {
     "name": "stdout",
     "output_type": "stream",
     "text": [
      "True\n",
      "False\n"
     ]
    }
   ],
   "source": [
    "print(isinstance(1, int))\n",
    "print(isinstance(1.0, int))"
   ]
  },
  {
   "cell_type": "code",
   "execution_count": 73,
   "id": "74d6b683",
   "metadata": {},
   "outputs": [
    {
     "name": "stdout",
     "output_type": "stream",
     "text": [
      "8\n"
     ]
    }
   ],
   "source": [
    "print(pow(2,3))"
   ]
  },
  {
   "cell_type": "code",
   "execution_count": 75,
   "id": "219feec9",
   "metadata": {},
   "outputs": [
    {
     "name": "stdout",
     "output_type": "stream",
     "text": [
      "Enter name: yaseedd\n"
     ]
    },
    {
     "data": {
      "text/plain": [
       "'yaseedd'"
      ]
     },
     "execution_count": 75,
     "metadata": {},
     "output_type": "execute_result"
    }
   ],
   "source": [
    "input(\"Enter name: \")"
   ]
  },
  {
   "cell_type": "code",
   "execution_count": 79,
   "id": "cbfd0eb0",
   "metadata": {},
   "outputs": [],
   "source": [
    "pow??"
   ]
  },
  {
   "cell_type": "code",
   "execution_count": 78,
   "id": "73b159ee",
   "metadata": {},
   "outputs": [
    {
     "name": "stdout",
     "output_type": "stream",
     "text": [
      "Help on built-in function pow in module builtins:\n",
      "\n",
      "pow(base, exp, mod=None)\n",
      "    Equivalent to base**exp with 2 arguments or base**exp % mod with 3 arguments\n",
      "    \n",
      "    Some types, such as ints, are able to use a more efficient algorithm when\n",
      "    invoked using the three argument form.\n",
      "\n"
     ]
    }
   ],
   "source": [
    "help(pow)"
   ]
  },
  {
   "cell_type": "markdown",
   "id": "c00a7612",
   "metadata": {},
   "source": [
    "# If-elif-else statements"
   ]
  },
  {
   "cell_type": "code",
   "execution_count": 81,
   "id": "d1805cb6",
   "metadata": {},
   "outputs": [
    {
     "name": "stdout",
     "output_type": "stream",
     "text": [
      "Enter first number: 3\n",
      "Enter second number: 4\n",
      "4\n",
      "second number is bigger\n"
     ]
    }
   ],
   "source": [
    "a = input(\"Enter first number: \")\n",
    "b = input(\"Enter second number: \")\n",
    "if a >= b:\n",
    "    print(a)\n",
    "    print(\"first number is bigger\")\n",
    "else:\n",
    "    print(b)\n",
    "    print(\"second number is bigger\")"
   ]
  },
  {
   "cell_type": "code",
   "execution_count": 83,
   "id": "23a8361f",
   "metadata": {},
   "outputs": [
    {
     "name": "stdout",
     "output_type": "stream",
     "text": [
      "Enter first number: 3\n",
      "Enter second number: 3\n",
      "first number same as second number\n"
     ]
    }
   ],
   "source": [
    "a = input(\"Enter first number: \")\n",
    "b = input(\"Enter second number: \")\n",
    "if a > b:\n",
    "    print(a)\n",
    "    print(\"first number is bigger\")\n",
    "elif a == b:\n",
    "    print(\"first number same as second number\")\n",
    "else:\n",
    "    print(b)\n",
    "    print(\"second number is bigger\")"
   ]
  },
  {
   "cell_type": "code",
   "execution_count": 94,
   "id": "09758ce1",
   "metadata": {},
   "outputs": [
    {
     "name": "stdout",
     "output_type": "stream",
     "text": [
      "Enter first number: 2\n",
      "Enter second number: 1\n",
      "2\n",
      "first number is bigger\n"
     ]
    }
   ],
   "source": [
    "a = input(\"Enter first number: \")\n",
    "b = input(\"Enter second number: \")\n",
    "if a != b:\n",
    "    if a > b:\n",
    "        print(a)\n",
    "        print(\"first number is bigger\")\n",
    "    else:\n",
    "        print(b)\n",
    "        print(\"second number is bigger\")\n",
    "else:\n",
    "    while a == b:\n",
    "        if a > b:\n",
    "            print(a)\n",
    "            print(\"first number is bigger\")\n",
    "        elif a < b:\n",
    "            print(b)\n",
    "            print(\"second number is bigger\")\n",
    "        else:\n",
    "            print(\"try again as these two numbers are equal\")\n",
    "            a = input(\"Enter first number: \")\n",
    "            b = input(\"Enter second number: \")"
   ]
  },
  {
   "cell_type": "code",
   "execution_count": null,
   "id": "5cf83f67",
   "metadata": {},
   "outputs": [],
   "source": [
    "1+1"
   ]
  },
  {
   "cell_type": "markdown",
   "id": "c818391c",
   "metadata": {},
   "source": [
    "# Comments"
   ]
  },
  {
   "cell_type": "code",
   "execution_count": null,
   "id": "a0ae41c7",
   "metadata": {},
   "outputs": [],
   "source": [
    "# in line or one line\n",
    "\"\"\"\"\n",
    "\n",
    "multiple lines\n",
    "\n",
    "\"\"\"\""
   ]
  },
  {
   "cell_type": "markdown",
   "id": "5a35f5b5",
   "metadata": {},
   "source": [
    "# While and For loops"
   ]
  },
  {
   "cell_type": "code",
   "execution_count": 96,
   "id": "0a9e5a69",
   "metadata": {},
   "outputs": [
    {
     "name": "stdout",
     "output_type": "stream",
     "text": [
      "5\n",
      "1\n",
      "2\n",
      "3\n",
      "4\n",
      "done\n"
     ]
    }
   ],
   "source": [
    "n = int(input())\n",
    "i = 1\n",
    "while i < n:\n",
    "    print(i)\n",
    "    i += 1\n",
    "print(\"done\")"
   ]
  },
  {
   "cell_type": "code",
   "execution_count": 106,
   "id": "0ecf2e37",
   "metadata": {},
   "outputs": [
    {
     "name": "stdout",
     "output_type": "stream",
     "text": [
      "2\n",
      "3\n",
      "4\n",
      "5\n",
      "6\n",
      "7\n",
      "8\n",
      "9\n",
      "9\n",
      "hi\n",
      "done\n"
     ]
    }
   ],
   "source": [
    "n = 10\n",
    "i = 1\n",
    "while True:\n",
    "    if i % 9 == 0:\n",
    "        print(i)\n",
    "        print(\"hi\")\n",
    "        break  # exits the loop immediately\n",
    "    else:\n",
    "        i += 1\n",
    "        print(i)\n",
    "        continue  # ignores code under within the loop and starts from the beginnning\n",
    "print(\"done\")"
   ]
  },
  {
   "cell_type": "code",
   "execution_count": 115,
   "id": "6179c9fc",
   "metadata": {},
   "outputs": [
    {
     "name": "stdout",
     "output_type": "stream",
     "text": [
      "[0, 1, 2, 3, 4, 5, 6, 7, 8, 9]\n"
     ]
    }
   ],
   "source": [
    "L = []\n",
    "for i in range(10):\n",
    "    L.append(i)\n",
    "print(L)"
   ]
  },
  {
   "cell_type": "code",
   "execution_count": 118,
   "id": "7acb95e5",
   "metadata": {},
   "outputs": [
    {
     "name": "stdout",
     "output_type": "stream",
     "text": [
      "[0, 2, 4, 6, 8]\n"
     ]
    }
   ],
   "source": [
    "L = []\n",
    "for i in range(0,10,2):\n",
    "    L.append(i)\n",
    "print(L)"
   ]
  },
  {
   "cell_type": "code",
   "execution_count": 122,
   "id": "5c33a9e2",
   "metadata": {},
   "outputs": [
    {
     "name": "stdout",
     "output_type": "stream",
     "text": [
      "cherry\n",
      "4.9\n",
      "apple\n",
      "loop is complete\n"
     ]
    }
   ],
   "source": [
    "S = {\"apple\", 4.9, \"cherry\"}  # set or dictionary\n",
    "for x in S:\n",
    "    print(x)\n",
    "else:\n",
    "    print(\"loop is complete\")"
   ]
  },
  {
   "cell_type": "code",
   "execution_count": 123,
   "id": "cfa187f0",
   "metadata": {},
   "outputs": [
    {
     "name": "stdout",
     "output_type": "stream",
     "text": [
      "a 10\n",
      "b 20\n",
      "c 30\n"
     ]
    }
   ],
   "source": [
    "D = {\"a\":10, \"b\":20, \"c\":30}\n",
    "for x in D:\n",
    "    print(x, D[x])"
   ]
  },
  {
   "cell_type": "markdown",
   "id": "401b0f8f",
   "metadata": {},
   "source": [
    "# Functions"
   ]
  },
  {
   "cell_type": "code",
   "execution_count": 124,
   "id": "40d9190d",
   "metadata": {},
   "outputs": [
    {
     "name": "stdout",
     "output_type": "stream",
     "text": [
      "hello\n",
      "world\n"
     ]
    }
   ],
   "source": [
    "def printsuccess():\n",
    "    print(\"hello\")\n",
    "    print(\"world\")\n",
    "\n",
    "printsuccess()"
   ]
  },
  {
   "cell_type": "code",
   "execution_count": 127,
   "id": "c7f2ca76",
   "metadata": {},
   "outputs": [
    {
     "name": "stdout",
     "output_type": "stream",
     "text": [
      "hello\n",
      "world\n"
     ]
    }
   ],
   "source": [
    "def printsuccess():\n",
    "    \"\"\"this functions writes hello world\"\"\"\n",
    "    print(\"hello\")\n",
    "    print(\"world\")\n",
    "printsuccess()"
   ]
  },
  {
   "cell_type": "code",
   "execution_count": 130,
   "id": "14a56295",
   "metadata": {},
   "outputs": [
    {
     "name": "stdout",
     "output_type": "stream",
     "text": [
      "Help on function printsuccess in module __main__:\n",
      "\n",
      "printsuccess()\n",
      "    this functions writes hello world\n",
      "\n"
     ]
    }
   ],
   "source": [
    "help(printsuccess)\n",
    "printsuccess?\n",
    "printsuccess??"
   ]
  },
  {
   "cell_type": "code",
   "execution_count": 132,
   "id": "706062ad",
   "metadata": {},
   "outputs": [
    {
     "name": "stdout",
     "output_type": "stream",
     "text": [
      "hi\n"
     ]
    }
   ],
   "source": [
    "def printmessage(msg):\n",
    "    if isinstance(msg, str):\n",
    "        print(msg)\n",
    "    else:\n",
    "        print(\"not a string\")\n",
    "printmessage(\"hi\")"
   ]
  },
  {
   "cell_type": "code",
   "execution_count": 136,
   "id": "b61fc303",
   "metadata": {},
   "outputs": [
    {
     "data": {
      "text/plain": [
       "2"
      ]
     },
     "execution_count": 136,
     "metadata": {},
     "output_type": "execute_result"
    }
   ],
   "source": [
    "def add(x,y):\n",
    "    return x + y\n",
    "add(1,1)"
   ]
  },
  {
   "cell_type": "code",
   "execution_count": 139,
   "id": "6773964f",
   "metadata": {},
   "outputs": [
    {
     "data": {
      "text/plain": [
       "3"
      ]
     },
     "execution_count": 139,
     "metadata": {},
     "output_type": "execute_result"
    }
   ],
   "source": [
    "def args(*args):\n",
    "    sum = 0\n",
    "    for j in range(len(args)):\n",
    "        sum += args[j]\n",
    "    return sum\n",
    "args(1,2)"
   ]
  },
  {
   "cell_type": "code",
   "execution_count": 146,
   "id": "0128073a",
   "metadata": {},
   "outputs": [
    {
     "name": "stdout",
     "output_type": "stream",
     "text": [
      "a : 3\n",
      "b : 4\n",
      "c : 3\n"
     ]
    }
   ],
   "source": [
    "def kwargs(**kwargs):\n",
    "    for x in kwargs:\n",
    "        print(x,\":\",kwargs[x])\n",
    "kwargs(a = 3, b = 4, c = 3)"
   ]
  },
  {
   "cell_type": "markdown",
   "id": "edd68d67",
   "metadata": {},
   "source": [
    "# Modules"
   ]
  },
  {
   "cell_type": "code",
   "execution_count": 156,
   "id": "400b49ff",
   "metadata": {},
   "outputs": [
    {
     "name": "stdout",
     "output_type": "stream",
     "text": [
      "C:\\Users\\Yaseed\\Desktop\\GitHub\\python-code-datasets\\DataScience_help\n"
     ]
    }
   ],
   "source": [
    "# get wd\n",
    "import os\n",
    "print(os.getcwd())"
   ]
  },
  {
   "cell_type": "code",
   "execution_count": 161,
   "id": "9412da30",
   "metadata": {},
   "outputs": [],
   "source": [
    "import sys  \n",
    "sys.path.append(\"C:/Users/Yaseed/Desktop/GitHub/python-code-datasets/DataScience_help/mymodules/\") "
   ]
  },
  {
   "cell_type": "code",
   "execution_count": 167,
   "id": "70c3afc3",
   "metadata": {},
   "outputs": [],
   "source": [
    "import my_functions as mf"
   ]
  },
  {
   "cell_type": "code",
   "execution_count": 168,
   "id": "dfe76eca",
   "metadata": {},
   "outputs": [
    {
     "name": "stdout",
     "output_type": "stream",
     "text": [
      "hello world\n"
     ]
    }
   ],
   "source": [
    "mf.hi()"
   ]
  },
  {
   "cell_type": "code",
   "execution_count": 169,
   "id": "23fc2f75",
   "metadata": {},
   "outputs": [
    {
     "name": "stdout",
     "output_type": "stream",
     "text": [
      "hello world\n"
     ]
    }
   ],
   "source": [
    "from my_functions import *\n",
    "hi()"
   ]
  },
  {
   "cell_type": "markdown",
   "id": "d3a1a504",
   "metadata": {},
   "source": [
    "# Other Important Data Structures: Lists, Tuples, Sets, and Dictionaries"
   ]
  },
  {
   "cell_type": "code",
   "execution_count": null,
   "id": "c45328f7",
   "metadata": {},
   "outputs": [],
   "source": [
    "# List []           # ordered       # changable      # duplicates\n",
    "# Tuple ()          # ordered       # unchangable    # duplicates\n",
    "# Set {}            # unordered     # add/remove     # no duplicates\n",
    "# Dictionary {:}    # unordered     # changable      # no duplicates"
   ]
  },
  {
   "cell_type": "code",
   "execution_count": 171,
   "id": "366bbcd9",
   "metadata": {},
   "outputs": [
    {
     "name": "stdout",
     "output_type": "stream",
     "text": [
      "[1, 2, 3, 4]\n",
      "[1, 2, 3, 4]\n",
      "[1, 2, 3, 4]\n"
     ]
    }
   ],
   "source": [
    "l = [1,2,3,4]\n",
    "k = l\n",
    "print(l)\n",
    "print(k)\n",
    "h = l.copy()\n",
    "print(h)"
   ]
  },
  {
   "cell_type": "code",
   "execution_count": 173,
   "id": "2cca78d5",
   "metadata": {},
   "outputs": [],
   "source": [
    "L = [1,2,3,4,\"name\"]\n",
    "T = (1,2,3,4,\"name\")\n",
    "S = {1,2,3,4,\"name\"}\n",
    "D = {1:\"A\", 2:\"B\", 3:\"C\"}"
   ]
  },
  {
   "cell_type": "code",
   "execution_count": 175,
   "id": "32984756",
   "metadata": {},
   "outputs": [
    {
     "name": "stdout",
     "output_type": "stream",
     "text": [
      "2\n",
      "2\n",
      "True\n",
      "A\n"
     ]
    }
   ],
   "source": [
    "print(L[1])\n",
    "print(T[1])\n",
    "print(1 in S)\n",
    "print(D[1])"
   ]
  },
  {
   "cell_type": "code",
   "execution_count": 176,
   "id": "d68210b2",
   "metadata": {},
   "outputs": [
    {
     "name": "stdout",
     "output_type": "stream",
     "text": [
      "{1, 2, 3, 4, 'name', 'cat', 'dog'}\n"
     ]
    }
   ],
   "source": [
    "S.update({\"cat\",\"dog\"})\n",
    "print(S)"
   ]
  }
 ],
 "metadata": {
  "kernelspec": {
   "display_name": "Python 3 (ipykernel)",
   "language": "python",
   "name": "python3"
  },
  "language_info": {
   "codemirror_mode": {
    "name": "ipython",
    "version": 3
   },
   "file_extension": ".py",
   "mimetype": "text/x-python",
   "name": "python",
   "nbconvert_exporter": "python",
   "pygments_lexer": "ipython3",
   "version": "3.9.13"
  }
 },
 "nbformat": 4,
 "nbformat_minor": 5
}
