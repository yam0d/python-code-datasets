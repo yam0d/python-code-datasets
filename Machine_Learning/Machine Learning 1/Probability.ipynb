{
 "cells": [
  {
   "cell_type": "code",
   "execution_count": 16,
   "id": "817b5e1f",
   "metadata": {},
   "outputs": [
    {
     "name": "stdout",
     "output_type": "stream",
     "text": [
      "{4, 7}\n",
      "<class 'set'>\n"
     ]
    }
   ],
   "source": [
    "Set1 = {4,7}  # creates a set = dictionary without values just unique keys\n",
    "print(Set1)\n",
    "print(type(Set1))"
   ]
  },
  {
   "cell_type": "code",
   "execution_count": 17,
   "id": "d320101d",
   "metadata": {},
   "outputs": [
    {
     "name": "stdout",
     "output_type": "stream",
     "text": [
      "{1, 2, 3, 4}\n"
     ]
    }
   ],
   "source": [
    "# change list into set\n",
    "\n",
    "l = [1,2,3,4,4]\n",
    "s = set(l)\n",
    "print(s)"
   ]
  },
  {
   "cell_type": "code",
   "execution_count": 19,
   "id": "abe0bc3a",
   "metadata": {},
   "outputs": [
    {
     "name": "stdout",
     "output_type": "stream",
     "text": [
      "{1, 2, 3, 4}\n",
      "True\n",
      "False\n"
     ]
    }
   ],
   "source": [
    "print(s)\n",
    "print(3 in s)\n",
    "print(6 in s)"
   ]
  },
  {
   "cell_type": "code",
   "execution_count": 30,
   "id": "9a8c5323",
   "metadata": {},
   "outputs": [
    {
     "name": "stdout",
     "output_type": "stream",
     "text": [
      "[(1, 1), (1, 2), (1, 3), (1, 4), (1, 5), (1, 6), (2, 1), (2, 2), (2, 3), (2, 4), (2, 5), (2, 6), (3, 1), (3, 2), (3, 3), (3, 4), (3, 5), (3, 6), (4, 1), (4, 2), (4, 3), (4, 4), (4, 5), (4, 6), (5, 1), (5, 2), (5, 3), (5, 4), (5, 5), (5, 6), (6, 1), (6, 2), (6, 3), (6, 4), (6, 5), (6, 6)]\n"
     ]
    }
   ],
   "source": [
    "from itertools import product as prod\n",
    "\n",
    "A = set([x for x in range(1,7)])\n",
    "B = set([x for x in range(1,7)])\n",
    "p = list(prod(A,B))\n",
    "\n",
    "print(p)"
   ]
  },
  {
   "cell_type": "code",
   "execution_count": 38,
   "id": "c0cfd879",
   "metadata": {},
   "outputs": [
    {
     "data": {
      "text/plain": [
       "{(1, 1),\n",
       " (1, 2),\n",
       " (1, 3),\n",
       " (1, 4),\n",
       " (1, 5),\n",
       " (1, 6),\n",
       " (2, 1),\n",
       " (2, 2),\n",
       " (2, 3),\n",
       " (2, 4),\n",
       " (2, 5),\n",
       " (2, 6),\n",
       " (3, 1),\n",
       " (3, 2),\n",
       " (3, 3),\n",
       " (3, 4),\n",
       " (3, 5),\n",
       " (3, 6),\n",
       " (4, 1),\n",
       " (4, 2),\n",
       " (4, 3),\n",
       " (4, 4),\n",
       " (4, 5),\n",
       " (4, 6),\n",
       " (5, 1),\n",
       " (5, 2),\n",
       " (5, 3),\n",
       " (5, 4),\n",
       " (5, 5),\n",
       " (5, 6),\n",
       " (6, 1),\n",
       " (6, 2),\n",
       " (6, 3),\n",
       " (6, 4),\n",
       " (6, 5),\n",
       " (6, 6)}"
      ]
     },
     "execution_count": 38,
     "metadata": {},
     "output_type": "execute_result"
    }
   ],
   "source": [
    "n = 2\n",
    "face = {1,2,3,4,5,6}\n",
    "\n",
    "event_space = set(prod(face, repeat = 2))\n",
    "event_space"
   ]
  },
  {
   "cell_type": "code",
   "execution_count": 41,
   "id": "1746497b",
   "metadata": {},
   "outputs": [
    {
     "name": "stdout",
     "output_type": "stream",
     "text": [
      "(3, 4), (4, 3), (3, 1), (5, 4), (4, 6), (5, 1), (2, 2), (1, 6), (2, 5), (1, 3), (6, 2), (6, 5), (4, 2), (4, 5), (3, 3), (5, 6), (3, 6), (5, 3), (2, 4), (1, 2), (2, 1), (1, 5), (6, 1), (6, 4), (3, 2), (4, 1), (3, 5), (5, 2), (4, 4), (5, 5), (1, 1), (1, 4), (2, 3), (2, 6), (6, 6), (6, 3), \n",
      "36\n"
     ]
    }
   ],
   "source": [
    "for outcome in event_space:\n",
    "    print(outcome, end = ', ')\n",
    "print()\n",
    "print(len(event_space))"
   ]
  },
  {
   "cell_type": "code",
   "execution_count": 47,
   "id": "ab6d9172",
   "metadata": {},
   "outputs": [
    {
     "name": "stdout",
     "output_type": "stream",
     "text": [
      "(2, 4), (1, 2), (2, 1), (1, 5), (5, 4), (5, 1), (4, 2), (4, 5), (3, 3), (3, 6), (6, 6), (6, 3), \n",
      "12\n",
      "\n",
      "0.3333333333333333\n"
     ]
    }
   ],
   "source": [
    "fav= []\n",
    "for outcome in event_space:\n",
    "    x,y = outcome\n",
    "    if (x + y)%3 == 0:\n",
    "        fav.append(outcome)\n",
    "\n",
    "fav = set(fav)\n",
    "\n",
    "for out in fav:\n",
    "    print(out, end = ', ')\n",
    "\n",
    "print()\n",
    "print(len(fav))\n",
    "\n",
    "print()\n",
    "print(len(fav)/len(event_space))"
   ]
  },
  {
   "cell_type": "code",
   "execution_count": null,
   "id": "83980945",
   "metadata": {},
   "outputs": [],
   "source": []
  }
 ],
 "metadata": {
  "kernelspec": {
   "display_name": "Python 3 (ipykernel)",
   "language": "python",
   "name": "python3"
  },
  "language_info": {
   "codemirror_mode": {
    "name": "ipython",
    "version": 3
   },
   "file_extension": ".py",
   "mimetype": "text/x-python",
   "name": "python",
   "nbconvert_exporter": "python",
   "pygments_lexer": "ipython3",
   "version": "3.10.7"
  }
 },
 "nbformat": 4,
 "nbformat_minor": 5
}
