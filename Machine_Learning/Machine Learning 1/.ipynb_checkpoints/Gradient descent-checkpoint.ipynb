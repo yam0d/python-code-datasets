{
 "cells": [
  {
   "cell_type": "code",
   "execution_count": 6,
   "id": "7ce57ebc",
   "metadata": {},
   "outputs": [
    {
     "name": "stdout",
     "output_type": "stream",
     "text": [
      "Iteration 1 \n",
      "X value is 3.0\n",
      "Iteration 2 \n",
      "X value is 1.4\n",
      "Iteration 3 \n",
      "X value is 0.11999999999999966\n",
      "Iteration 4 \n",
      "X value is -0.9040000000000001\n",
      "Iteration 5 \n",
      "X value is -1.7232000000000003\n",
      "Iteration 6 \n",
      "X value is -2.3785600000000002\n",
      "Iteration 7 \n",
      "X value is -2.902848\n",
      "Iteration 8 \n",
      "X value is -3.3222784\n",
      "The local minimum occurs at -3.3222784\n"
     ]
    }
   ],
   "source": [
    "cur_x = 5\n",
    "rate = 0.1\n",
    "precision = 0.5\n",
    "previous_step_size = 1\n",
    "max_iters = 1000000\n",
    "iters = 0\n",
    "\n",
    "# lambda is used to create anonymous functions\n",
    "df = lambda x: 2*(x+5)  # gradient of our function\n",
    "\n",
    "while previous_step_size > precision and iters < max_iters:\n",
    "    prev_x = cur_x\n",
    "    cur_x = cur_x - rate * df(prev_x)\n",
    "    previous_step_size = abs(cur_x - prev_x)\n",
    "    iters = iters + 1\n",
    "    print('Iteration', iters, '\\nX value is', cur_x)\n",
    "    \n",
    "print('The local minimum occurs at', cur_x)"
   ]
  },
  {
   "cell_type": "code",
   "execution_count": 7,
   "id": "4fba5def",
   "metadata": {},
   "outputs": [],
   "source": [
    "import scipy.optimize as sci"
   ]
  },
  {
   "cell_type": "code",
   "execution_count": 8,
   "id": "475564e1",
   "metadata": {},
   "outputs": [],
   "source": [
    "sci.minimize??"
   ]
  }
 ],
 "metadata": {
  "kernelspec": {
   "display_name": "Python 3 (ipykernel)",
   "language": "python",
   "name": "python3"
  },
  "language_info": {
   "codemirror_mode": {
    "name": "ipython",
    "version": 3
   },
   "file_extension": ".py",
   "mimetype": "text/x-python",
   "name": "python",
   "nbconvert_exporter": "python",
   "pygments_lexer": "ipython3",
   "version": "3.10.7"
  }
 },
 "nbformat": 4,
 "nbformat_minor": 5
}
