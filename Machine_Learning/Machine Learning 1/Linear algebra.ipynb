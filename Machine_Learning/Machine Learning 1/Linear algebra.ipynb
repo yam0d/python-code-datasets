{
 "cells": [
  {
   "cell_type": "code",
   "execution_count": 2,
   "id": "f564abe1",
   "metadata": {},
   "outputs": [],
   "source": [
    "import numpy as np"
   ]
  },
  {
   "cell_type": "code",
   "execution_count": 13,
   "id": "d1724e6e",
   "metadata": {},
   "outputs": [
    {
     "name": "stdout",
     "output_type": "stream",
     "text": [
      "[[10 15]]\n",
      "[[20  9]]\n",
      "\n"
     ]
    },
    {
     "data": {
      "text/plain": [
       "array([[30],\n",
       "       [24]])"
      ]
     },
     "execution_count": 13,
     "metadata": {},
     "output_type": "execute_result"
    }
   ],
   "source": [
    "a = np.array([[10,15]])\n",
    "b = np.array([[20,9]])\n",
    "print(a)\n",
    "print(b)\n",
    "print()\n",
    "\n",
    "# add transpose\n",
    "(a + b).T"
   ]
  },
  {
   "cell_type": "code",
   "execution_count": 14,
   "id": "eb5e36e2",
   "metadata": {},
   "outputs": [
    {
     "data": {
      "text/plain": [
       "array([[-10,   6]])"
      ]
     },
     "execution_count": 14,
     "metadata": {},
     "output_type": "execute_result"
    }
   ],
   "source": [
    "# subtract\n",
    "a - b"
   ]
  },
  {
   "cell_type": "code",
   "execution_count": 16,
   "id": "5903233b",
   "metadata": {},
   "outputs": [
    {
     "data": {
      "text/plain": [
       "array([[60, 30]])"
      ]
     },
     "execution_count": 16,
     "metadata": {},
     "output_type": "execute_result"
    }
   ],
   "source": [
    "# scaler\n",
    "a = 2\n",
    "u = np.array([[30,15]])\n",
    "\n",
    "a * u"
   ]
  },
  {
   "cell_type": "code",
   "execution_count": 23,
   "id": "f6cf3f59",
   "metadata": {},
   "outputs": [
    {
     "name": "stdout",
     "output_type": "stream",
     "text": [
      "370\n"
     ]
    },
    {
     "data": {
      "text/plain": [
       "370"
      ]
     },
     "execution_count": 23,
     "metadata": {},
     "output_type": "execute_result"
    }
   ],
   "source": [
    "# dot product\n",
    "\n",
    "u = np.array([10,20])\n",
    "v = np.array([25,6])\n",
    "\n",
    "print(10*25 + 20*6)\n",
    "np.dot(u,v)"
   ]
  },
  {
   "cell_type": "code",
   "execution_count": 28,
   "id": "9dda6f74",
   "metadata": {},
   "outputs": [
    {
     "name": "stdout",
     "output_type": "stream",
     "text": [
      "[[10 15]\n",
      " [ 2  1]\n",
      " [ 3  1]] \n",
      "\n",
      "[[20  9]\n",
      " [ 2  1]\n",
      " [ 3  1]]\n"
     ]
    }
   ],
   "source": [
    "# matrix addition\n",
    "a = np.array([[10,15], [2,1], [3,1]])\n",
    "b = np.array([[20,9], [2,1], [3,1]])\n",
    "\n",
    "print(a, end =\"\\n\\n\")\n",
    "print(b)"
   ]
  },
  {
   "cell_type": "code",
   "execution_count": 29,
   "id": "7128c297",
   "metadata": {},
   "outputs": [
    {
     "data": {
      "text/plain": [
       "array([[-10,   6],\n",
       "       [  0,   0],\n",
       "       [  0,   0]])"
      ]
     },
     "execution_count": 29,
     "metadata": {},
     "output_type": "execute_result"
    }
   ],
   "source": [
    "# matrix subtraction\n",
    "a-b"
   ]
  },
  {
   "cell_type": "code",
   "execution_count": 30,
   "id": "cb606c14",
   "metadata": {},
   "outputs": [
    {
     "data": {
      "text/plain": [
       "array([170, 390])"
      ]
     },
     "execution_count": 30,
     "metadata": {},
     "output_type": "execute_result"
    }
   ],
   "source": [
    "# matrix and vector multiplication\n",
    "\n",
    "a = [[5,10], [15,20]]\n",
    "b = [10,12]\n",
    "\n",
    "np.dot(a,b)"
   ]
  },
  {
   "cell_type": "code",
   "execution_count": 38,
   "id": "603850dc",
   "metadata": {},
   "outputs": [
    {
     "data": {
      "text/plain": [
       "array([[None, None, None, None, None],\n",
       "       [None, 2, None, None, None],\n",
       "       [None, None, None, None, None],\n",
       "       [None, None, None, None, None],\n",
       "       [None, None, None, None, None]], dtype=object)"
      ]
     },
     "execution_count": 38,
     "metadata": {},
     "output_type": "execute_result"
    }
   ],
   "source": [
    "# empty matrix\n",
    "a = np.full(shape=[5,5], fill_value=None)\n",
    "a[1,1] = 2\n",
    "a"
   ]
  },
  {
   "cell_type": "code",
   "execution_count": 40,
   "id": "779bcc7d",
   "metadata": {},
   "outputs": [
    {
     "data": {
      "text/plain": [
       "array([[1., 0.],\n",
       "       [0., 1.]])"
      ]
     },
     "execution_count": 40,
     "metadata": {},
     "output_type": "execute_result"
    }
   ],
   "source": [
    "# identity matrix\n",
    "\n",
    "i1 = np.eye(2)  # 2x2 matrix\n",
    "i1"
   ]
  },
  {
   "cell_type": "code",
   "execution_count": 42,
   "id": "a31b2c97",
   "metadata": {},
   "outputs": [
    {
     "name": "stdout",
     "output_type": "stream",
     "text": [
      "[[10 15  2]\n",
      " [ 2  1  1]\n",
      " [ 3  1  1]]\n",
      "[[ 2.22044605e-17 -1.00000000e+00  1.00000000e+00]\n",
      " [ 7.69230769e-02  3.07692308e-01 -4.61538462e-01]\n",
      " [-7.69230769e-02  2.69230769e+00 -1.53846154e+00]]\n"
     ]
    }
   ],
   "source": [
    "# inverse\n",
    "a = np.array([[10,15,2], [2,1,1], [3,1,1]])\n",
    "print(a)\n",
    "print(np.linalg.inv(a))\n"
   ]
  }
 ],
 "metadata": {
  "kernelspec": {
   "display_name": "Python 3 (ipykernel)",
   "language": "python",
   "name": "python3"
  },
  "language_info": {
   "codemirror_mode": {
    "name": "ipython",
    "version": 3
   },
   "file_extension": ".py",
   "mimetype": "text/x-python",
   "name": "python",
   "nbconvert_exporter": "python",
   "pygments_lexer": "ipython3",
   "version": "3.10.7"
  }
 },
 "nbformat": 4,
 "nbformat_minor": 5
}
